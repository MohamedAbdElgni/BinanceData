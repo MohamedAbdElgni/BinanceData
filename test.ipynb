{
 "cells": [
  {
   "cell_type": "code",
   "execution_count": 135,
   "metadata": {},
   "outputs": [
    {
     "name": "stdout",
     "output_type": "stream",
     "text": [
      "The autoreload extension is already loaded. To reload it, use:\n",
      "  %reload_ext autoreload\n"
     ]
    }
   ],
   "source": [
    "from binance.client import Client\n",
    "import pandas as pd\n",
    "from config import settings\n",
    "%load_ext autoreload\n",
    "%autoreload 2"
   ]
  },
  {
   "cell_type": "code",
   "execution_count": 145,
   "metadata": {},
   "outputs": [
    {
     "name": "stdout",
     "output_type": "stream",
     "text": [
      "Data Downloaded successfully !!!!!!\n",
      "Data frame with 17222 observations For SHIBUSDT from date 2021-05-10 to 2023-04-28 with 1h invertal From Binance...\n"
     ]
    }
   ],
   "source": [
    "from data import Binance_data\n",
    "api_connection = Binance_data()\n",
    "data=api_connection.get_data(symbol='shibUSDT',start_date='2020-01-01',end_date='2023-04-28',invertal='1h')\n"
   ]
  },
  {
   "cell_type": "code",
   "execution_count": 146,
   "metadata": {},
   "outputs": [
    {
     "data": {
      "text/html": [
       "<div>\n",
       "<style scoped>\n",
       "    .dataframe tbody tr th:only-of-type {\n",
       "        vertical-align: middle;\n",
       "    }\n",
       "\n",
       "    .dataframe tbody tr th {\n",
       "        vertical-align: top;\n",
       "    }\n",
       "\n",
       "    .dataframe thead th {\n",
       "        text-align: right;\n",
       "    }\n",
       "</style>\n",
       "<table border=\"1\" class=\"dataframe\">\n",
       "  <thead>\n",
       "    <tr style=\"text-align: right;\">\n",
       "      <th></th>\n",
       "      <th>open</th>\n",
       "      <th>high</th>\n",
       "      <th>low</th>\n",
       "      <th>close</th>\n",
       "      <th>volume</th>\n",
       "      <th>close_time</th>\n",
       "      <th>quote_asset_volume</th>\n",
       "      <th>number_of_trades</th>\n",
       "      <th>taker_buy_base_asset_volume</th>\n",
       "      <th>taker_buy_quote_asset_volume</th>\n",
       "      <th>ignore</th>\n",
       "    </tr>\n",
       "    <tr>\n",
       "      <th>timestamp</th>\n",
       "      <th></th>\n",
       "      <th></th>\n",
       "      <th></th>\n",
       "      <th></th>\n",
       "      <th></th>\n",
       "      <th></th>\n",
       "      <th></th>\n",
       "      <th></th>\n",
       "      <th></th>\n",
       "      <th></th>\n",
       "      <th></th>\n",
       "    </tr>\n",
       "  </thead>\n",
       "  <tbody>\n",
       "    <tr>\n",
       "      <th>2021-05-10 11:00:00</th>\n",
       "      <td>0.000014</td>\n",
       "      <td>0.000050</td>\n",
       "      <td>0.000014</td>\n",
       "      <td>0.000030</td>\n",
       "      <td>1.527431e+13</td>\n",
       "      <td>1.620648e+12</td>\n",
       "      <td>4.981171e+08</td>\n",
       "      <td>730457.0</td>\n",
       "      <td>7.922164e+12</td>\n",
       "      <td>2.613939e+08</td>\n",
       "      <td>0.0</td>\n",
       "    </tr>\n",
       "    <tr>\n",
       "      <th>2021-05-10 12:00:00</th>\n",
       "      <td>0.000030</td>\n",
       "      <td>0.000039</td>\n",
       "      <td>0.000029</td>\n",
       "      <td>0.000033</td>\n",
       "      <td>1.290046e+13</td>\n",
       "      <td>1.620652e+12</td>\n",
       "      <td>4.445373e+08</td>\n",
       "      <td>613245.0</td>\n",
       "      <td>6.863991e+12</td>\n",
       "      <td>2.366849e+08</td>\n",
       "      <td>0.0</td>\n",
       "    </tr>\n",
       "    <tr>\n",
       "      <th>2021-05-10 13:00:00</th>\n",
       "      <td>0.000033</td>\n",
       "      <td>0.000036</td>\n",
       "      <td>0.000029</td>\n",
       "      <td>0.000031</td>\n",
       "      <td>8.472225e+12</td>\n",
       "      <td>1.620655e+12</td>\n",
       "      <td>2.732095e+08</td>\n",
       "      <td>424398.0</td>\n",
       "      <td>4.128436e+12</td>\n",
       "      <td>1.335645e+08</td>\n",
       "      <td>0.0</td>\n",
       "    </tr>\n",
       "    <tr>\n",
       "      <th>2021-05-10 14:00:00</th>\n",
       "      <td>0.000031</td>\n",
       "      <td>0.000031</td>\n",
       "      <td>0.000028</td>\n",
       "      <td>0.000029</td>\n",
       "      <td>5.786327e+12</td>\n",
       "      <td>1.620659e+12</td>\n",
       "      <td>1.689730e+08</td>\n",
       "      <td>302869.0</td>\n",
       "      <td>2.894601e+12</td>\n",
       "      <td>8.471910e+07</td>\n",
       "      <td>0.0</td>\n",
       "    </tr>\n",
       "    <tr>\n",
       "      <th>2021-05-10 15:00:00</th>\n",
       "      <td>0.000029</td>\n",
       "      <td>0.000031</td>\n",
       "      <td>0.000029</td>\n",
       "      <td>0.000029</td>\n",
       "      <td>3.593920e+12</td>\n",
       "      <td>1.620662e+12</td>\n",
       "      <td>1.074092e+08</td>\n",
       "      <td>205869.0</td>\n",
       "      <td>1.906123e+12</td>\n",
       "      <td>5.701797e+07</td>\n",
       "      <td>0.0</td>\n",
       "    </tr>\n",
       "  </tbody>\n",
       "</table>\n",
       "</div>"
      ],
      "text/plain": [
       "                         open      high       low     close        volume  \\\n",
       "timestamp                                                                   \n",
       "2021-05-10 11:00:00  0.000014  0.000050  0.000014  0.000030  1.527431e+13   \n",
       "2021-05-10 12:00:00  0.000030  0.000039  0.000029  0.000033  1.290046e+13   \n",
       "2021-05-10 13:00:00  0.000033  0.000036  0.000029  0.000031  8.472225e+12   \n",
       "2021-05-10 14:00:00  0.000031  0.000031  0.000028  0.000029  5.786327e+12   \n",
       "2021-05-10 15:00:00  0.000029  0.000031  0.000029  0.000029  3.593920e+12   \n",
       "\n",
       "                       close_time  quote_asset_volume  number_of_trades  \\\n",
       "timestamp                                                                 \n",
       "2021-05-10 11:00:00  1.620648e+12        4.981171e+08          730457.0   \n",
       "2021-05-10 12:00:00  1.620652e+12        4.445373e+08          613245.0   \n",
       "2021-05-10 13:00:00  1.620655e+12        2.732095e+08          424398.0   \n",
       "2021-05-10 14:00:00  1.620659e+12        1.689730e+08          302869.0   \n",
       "2021-05-10 15:00:00  1.620662e+12        1.074092e+08          205869.0   \n",
       "\n",
       "                     taker_buy_base_asset_volume  \\\n",
       "timestamp                                          \n",
       "2021-05-10 11:00:00                 7.922164e+12   \n",
       "2021-05-10 12:00:00                 6.863991e+12   \n",
       "2021-05-10 13:00:00                 4.128436e+12   \n",
       "2021-05-10 14:00:00                 2.894601e+12   \n",
       "2021-05-10 15:00:00                 1.906123e+12   \n",
       "\n",
       "                     taker_buy_quote_asset_volume  ignore  \n",
       "timestamp                                                  \n",
       "2021-05-10 11:00:00                  2.613939e+08     0.0  \n",
       "2021-05-10 12:00:00                  2.366849e+08     0.0  \n",
       "2021-05-10 13:00:00                  1.335645e+08     0.0  \n",
       "2021-05-10 14:00:00                  8.471910e+07     0.0  \n",
       "2021-05-10 15:00:00                  5.701797e+07     0.0  "
      ]
     },
     "execution_count": 146,
     "metadata": {},
     "output_type": "execute_result"
    }
   ],
   "source": [
    "data.head(5)"
   ]
  },
  {
   "cell_type": "code",
   "execution_count": 147,
   "metadata": {},
   "outputs": [],
   "source": [
    "df=api_connection.wrangle_data(get_time_series=True,columns=['close'])"
   ]
  },
  {
   "cell_type": "code",
   "execution_count": 148,
   "metadata": {},
   "outputs": [
    {
     "name": "stdout",
     "output_type": "stream",
     "text": [
      "Data saved successfully to ('data/SHIBUSDT_h_2021_5_1682832513.csv',)\n"
     ]
    }
   ],
   "source": [
    "data=api_connection.save_data()"
   ]
  },
  {
   "cell_type": "code",
   "execution_count": 149,
   "metadata": {},
   "outputs": [
    {
     "name": "stdout",
     "output_type": "stream",
     "text": [
      "<class 'pandas.core.series.Series'>\n",
      "DatetimeIndex: 17222 entries, 2021-05-10 11:00:00 to 2023-04-28 00:00:00\n",
      "Freq: H\n",
      "Series name: close\n",
      "Non-Null Count  Dtype  \n",
      "--------------  -----  \n",
      "17215 non-null  float64\n",
      "dtypes: float64(1)\n",
      "memory usage: 269.1 KB\n"
     ]
    }
   ],
   "source": [
    "data.info()"
   ]
  },
  {
   "cell_type": "code",
   "execution_count": 1,
   "metadata": {},
   "outputs": [
    {
     "ename": "NameError",
     "evalue": "name 'pd' is not defined",
     "output_type": "error",
     "traceback": [
      "\u001b[1;31m---------------------------------------------------------------------------\u001b[0m",
      "\u001b[1;31mNameError\u001b[0m                                 Traceback (most recent call last)",
      "\u001b[1;32me:\\Mohamed\\new_projects\\test.ipynb Cell 7\u001b[0m in \u001b[0;36m<cell line: 2>\u001b[1;34m()\u001b[0m\n\u001b[0;32m      <a href='vscode-notebook-cell:/e%3A/Mohamed/new_projects/test.ipynb#W6sZmlsZQ%3D%3D?line=0'>1</a>\u001b[0m \u001b[39m# read the CSV file into a dataframe\u001b[39;00m\n\u001b[1;32m----> <a href='vscode-notebook-cell:/e%3A/Mohamed/new_projects/test.ipynb#W6sZmlsZQ%3D%3D?line=1'>2</a>\u001b[0m df \u001b[39m=\u001b[39m pd\u001b[39m.\u001b[39mread_csv(\u001b[39m'\u001b[39m\u001b[39mdata/SHIBUSDT_h_2023_1_1682832215.csv\u001b[39m\u001b[39m'\u001b[39m, index_col\u001b[39m=\u001b[39m\u001b[39m'\u001b[39m\u001b[39mtimestamp\u001b[39m\u001b[39m'\u001b[39m, parse_dates\u001b[39m=\u001b[39m\u001b[39mTrue\u001b[39;00m)\n\u001b[0;32m      <a href='vscode-notebook-cell:/e%3A/Mohamed/new_projects/test.ipynb#W6sZmlsZQ%3D%3D?line=3'>4</a>\u001b[0m \u001b[39m# set the name of the index to \"timestamp\"\u001b[39;00m\n\u001b[0;32m      <a href='vscode-notebook-cell:/e%3A/Mohamed/new_projects/test.ipynb#W6sZmlsZQ%3D%3D?line=5'>6</a>\u001b[0m df\u001b[39m.\u001b[39minfo()\n",
      "\u001b[1;31mNameError\u001b[0m: name 'pd' is not defined"
     ]
    }
   ],
   "source": [
    "# read the CSV file into a dataframe\n",
    "df = pd.read_csv('data/SHIBUSDT_h_2023_1_1682832215.csv', index_col='timestamp', parse_dates=True)\n",
    "\n",
    "# set the name of the index to \"timestamp\"\n",
    "\n",
    "df.info()"
   ]
  },
  {
   "cell_type": "code",
   "execution_count": 142,
   "metadata": {},
   "outputs": [],
   "source": [
    "df.index.freq='H'"
   ]
  },
  {
   "cell_type": "code",
   "execution_count": 103,
   "metadata": {},
   "outputs": [],
   "source": []
  },
  {
   "cell_type": "code",
   "execution_count": 144,
   "metadata": {},
   "outputs": [
    {
     "name": "stdout",
     "output_type": "stream",
     "text": [
      "<class 'pandas.core.frame.DataFrame'>\n",
      "DatetimeIndex: 2809 entries, 2023-01-01 00:00:00 to 2023-04-28 00:00:00\n",
      "Freq: H\n",
      "Data columns (total 1 columns):\n",
      " #   Column  Non-Null Count  Dtype  \n",
      "---  ------  --------------  -----  \n",
      " 0   close   2808 non-null   float64\n",
      "dtypes: float64(1)\n",
      "memory usage: 43.9 KB\n"
     ]
    }
   ],
   "source": [
    "df.info()"
   ]
  },
  {
   "cell_type": "code",
   "execution_count": null,
   "metadata": {},
   "outputs": [],
   "source": []
  }
 ],
 "metadata": {
  "kernelspec": {
   "display_name": "Python 3",
   "language": "python",
   "name": "python3"
  },
  "language_info": {
   "codemirror_mode": {
    "name": "ipython",
    "version": 3
   },
   "file_extension": ".py",
   "mimetype": "text/x-python",
   "name": "python",
   "nbconvert_exporter": "python",
   "pygments_lexer": "ipython3",
   "version": "3.10.2"
  },
  "orig_nbformat": 4
 },
 "nbformat": 4,
 "nbformat_minor": 2
}
